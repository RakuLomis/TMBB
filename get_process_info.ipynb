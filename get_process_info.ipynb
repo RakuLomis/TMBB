{
 "cells": [
  {
   "cell_type": "code",
   "execution_count": 1,
   "metadata": {},
   "outputs": [],
   "source": [
    "import psutil\n",
    "import subprocess\n",
    "import wmi\n",
    "import argparse\n",
    "import sys\n",
    "import threading\n",
    "import pythoncom\n",
    "from datetime import datetime\n",
    "import os"
   ]
  },
  {
   "cell_type": "code",
   "execution_count": 2,
   "metadata": {},
   "outputs": [],
   "source": [
    "def tsharkListening(pcap_path, device): # Start and end manually\n",
    "    try: \n",
    "        process = subprocess.Popen(['tshark', '-i', device, '-w', pcap_path], \n",
    "                                   stdout=subprocess.PIPE,\n",
    "                                   stderr=subprocess.PIPE)\n",
    "        return process\n",
    "    except Exception as e: \n",
    "        print(f\"Error starting tshark: {e}\")\n",
    "        return"
   ]
  },
  {
   "cell_type": "code",
   "execution_count": 3,
   "metadata": {},
   "outputs": [],
   "source": [
    "def tsharkTerminate(process): \n",
    "    if process is not None:\n",
    "        try:\n",
    "            process.terminate()\n",
    "            process.wait(timeout=1)  # 等待进程终止\n",
    "            print(\"Tshark process terminated successfully.\")\n",
    "        except subprocess.TimeoutExpired:\n",
    "            print(\"Tshark process did not terminate in time, killing it.\")\n",
    "            process.kill()\n",
    "        except Exception as e:\n",
    "            print(f\"Error terminating tshark: {e}\")\n",
    "    else:\n",
    "        print(\"No process to terminate.\")"
   ]
  },
  {
   "cell_type": "code",
   "execution_count": 4,
   "metadata": {},
   "outputs": [],
   "source": [
    "pcap_directory = \"wireshark_traffic\\\\test\"\n",
    "device = 'WLAN'\n",
    "device_proxy = 'Meta'\n",
    "time = datetime.now().strftime(\"%y-%m-%d--%H-%M-%S\")\n",
    "pcap_path_normal = os.path.join('.', pcap_directory, device, time + '.pcap')\n",
    "pcap_path_proxy = os.path.join('.', pcap_directory, device_proxy, time + '.pcap')"
   ]
  },
  {
   "cell_type": "code",
   "execution_count": 7,
   "metadata": {},
   "outputs": [],
   "source": [
    "normal_t = tsharkListening(pcap_path_normal, device)"
   ]
  },
  {
   "cell_type": "code",
   "execution_count": 8,
   "metadata": {},
   "outputs": [
    {
     "name": "stdout",
     "output_type": "stream",
     "text": [
      "Tshark process terminated successfully.\n"
     ]
    }
   ],
   "source": [
    "tsharkTerminate(normal_t)"
   ]
  }
 ],
 "metadata": {
  "kernelspec": {
   "display_name": "Pytorch_envs",
   "language": "python",
   "name": "python3"
  },
  "language_info": {
   "codemirror_mode": {
    "name": "ipython",
    "version": 3
   },
   "file_extension": ".py",
   "mimetype": "text/x-python",
   "name": "python",
   "nbconvert_exporter": "python",
   "pygments_lexer": "ipython3",
   "version": "3.9.12"
  }
 },
 "nbformat": 4,
 "nbformat_minor": 2
}
