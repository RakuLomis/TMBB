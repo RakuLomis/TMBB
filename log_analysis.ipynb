{
 "cells": [
  {
   "cell_type": "code",
   "execution_count": 1,
   "metadata": {},
   "outputs": [],
   "source": [
    "import pandas as pd\n",
    "import re\n",
    "import os\n",
    "from datetime import datetime\n",
    "from dateutil import parser"
   ]
  },
  {
   "cell_type": "code",
   "execution_count": 2,
   "metadata": {},
   "outputs": [],
   "source": [
    "log_name = '2024-09-23-1639.log'\n",
    "\n",
    "# log_file_path = os.path.join('.', 'test', 'log-analysis-test', log_name)\n",
    "log_file_path = os.path.join('.', 'wireshark_traffic', 'tshark', 'log', '2024-09-26-1444.log')\n",
    "# output_log_path = os.path.join('.', 'test', 'log-analysis-test', 'cutoff_test.log')\n",
    "# output_log_path = \"Papers\\\\UserPattern\\\\wireshark_traffic\\\\tshark\\\\output_log\\\\cutoff-2024-09-26-1444.log\"\n",
    "output_log_path = os.path.join('.', 'wireshark_traffic', 'tshark', 'output_log', 'cutoff-2024-09-26-1444.log')\n",
    "\n",
    "# process_port_path = \"Papers\\\\UserPattern\\\\wireshark_order\\\\24-09-26--16-54-06.txt\"\n",
    "process_port_path = os.path.join('.', 'wireshark_order', '24-09-26--17-03-48.txt')\n",
    "\n",
    "pattern = r'time=\"([^\"]+)\" level=[^ ]+ msg=\"([^\"]+)\"'\n",
    "pattern_process = r'tcp\\.port in \\{([0-9, ]+)\\}'\n",
    "\n",
    "log_data = []\n",
    "# process_port_tcp = []"
   ]
  },
  {
   "cell_type": "code",
   "execution_count": 3,
   "metadata": {},
   "outputs": [],
   "source": [
    "with open(log_file_path, 'r') as file: \n",
    "    for line in file: \n",
    "        match = re.search(pattern, line) \n",
    "        if match: \n",
    "            log_entry = {\n",
    "                'time': match.group(1), \n",
    "                'msg': match.group(2) \n",
    "            }\n",
    "            log_data.append(log_entry)"
   ]
  },
  {
   "cell_type": "code",
   "execution_count": 4,
   "metadata": {},
   "outputs": [],
   "source": [
    "df = pd.DataFrame(log_data, columns=['time', 'msg'])"
   ]
  },
  {
   "cell_type": "code",
   "execution_count": 5,
   "metadata": {},
   "outputs": [],
   "source": [
    "with open(process_port_path, 'r') as file: # 提取filter order中的TCP端口号\n",
    "    for line in file: \n",
    "        tcp_ports = re.search(pattern_process, line) \n",
    "        if tcp_ports: \n",
    "            process_port_tcp = [str(port.strip()) for port in tcp_ports.group(1).split(',')]"
   ]
  },
  {
   "cell_type": "code",
   "execution_count": 9,
   "metadata": {},
   "outputs": [],
   "source": [
    "temp_msg = df['msg'].iloc[2736]\n",
    "pattern_tcp = r'^\\[TCP\\]' # Starts with [TCP], ends with [DIRECT]\n",
    "pattern_postfix = r'.*\\[REJECT\\]$'\n",
    "pattern_conn = r'^inLoc'\n",
    "if re.match(pattern_tcp, temp_msg): \n",
    "    if re.match(pattern_postfix, temp_msg): \n",
    "        print(\"True\")\n",
    "else: \n",
    "    print(\"False\")"
   ]
  },
  {
   "cell_type": "code",
   "execution_count": 25,
   "metadata": {},
   "outputs": [
    {
     "name": "stdout",
     "output_type": "stream",
     "text": [
      "[TCP] 198.18.0.1:62280(chrome.exe) --> pic1.zhimg.com:443 match DomainSuffix(zhimg.com) using 🧱直接连接[DIRECT]\n",
      "True\n",
      "62280\n"
     ]
    }
   ],
   "source": [
    "temp_msg = df['msg'].iloc[2736]\n",
    "print(temp_msg)\n",
    "patter_chrome = r'.*\\(chrome\\.exe\\).*' \n",
    "port_pattern = r'.*\\d{1,3}(?:\\.\\d{1,3}){3}:(\\d+)'\n",
    "if re.match(pattern_tcp, temp_msg): \n",
    "    if re.match(patter_chrome, temp_msg): \n",
    "        print(\"True\") \n",
    "        match1 = re.search(port_pattern, temp_msg) \n",
    "        if match1: \n",
    "            port = match1.group(1) \n",
    "            print(port) \n",
    "        else: \n",
    "            print(\"Port capture error. \")\n",
    "    else: \n",
    "        print(\"False\")\n",
    "else: \n",
    "    print(\"False\")"
   ]
  },
  {
   "cell_type": "code",
   "execution_count": 17,
   "metadata": {},
   "outputs": [],
   "source": [
    "# 一次建立chrome和connection的列表，所有来自chrome的连接就以core为基准 \n",
    "pattern_tcp = r'^\\[TCP\\]' \n",
    "pattern_chrome = r'.*\\(chrome\\.exe\\).*' \n",
    "pattern_conn = r'^inLoc' \n",
    "\n",
    "list_chrome = [] \n",
    "list_connection = [] \n",
    "for i in range(df.shape[0]): \n",
    "    if re.match(pattern_tcp, df['msg'].iloc[i]): \n",
    "        if re.match(patter_chrome, df['msg'].iloc[i]): \n",
    "            list_chrome.append(df['msg'].iloc[i]) \n",
    "    elif re.match(pattern_conn, df['msg'].iloc[i]): \n",
    "        list_connection.append(df['msg'].iloc[i]) "
   ]
  },
  {
   "cell_type": "code",
   "execution_count": 28,
   "metadata": {},
   "outputs": [],
   "source": [
    "pattern_port = r'\\[TCP\\] \\d{1,3}(?:\\.\\d{1,3}){3}:(\\d+)' \n",
    "list_port = []\n",
    "for i in range(len(list_chrome)): \n",
    "    match = re.search(pattern_port, list_chrome[i]) \n",
    "    if match: \n",
    "        port = match.group(1) \n",
    "        list_port.append(port) \n",
    "set_port = set(list_port) "
   ]
  },
  {
   "cell_type": "code",
   "execution_count": null,
   "metadata": {},
   "outputs": [],
   "source": []
  },
  {
   "cell_type": "code",
   "execution_count": 8,
   "metadata": {},
   "outputs": [],
   "source": [
    "# 依次建立metadata和connection的列表，如果有的满足条件的metadata没打印出对应的connection信息怎么办\n",
    "pattern_tcp = r'^\\[TCP\\]'\n",
    "pattern_reject = r'.*\\[REJECT\\]$' \n",
    "pattern_conn = r'^inLoc' \n",
    "list_metadata = [] \n",
    "list_connection = [] \n",
    "for i in range(df.shape[0]): \n",
    "    if re.match(pattern_tcp, df['msg'].iloc[i]): \n",
    "        if not re.match(pattern_reject, df['msg'].iloc[i]): \n",
    "            list_metadata.append(df['msg'].iloc[i]) \n",
    "    elif re.match(pattern_conn, df['msg'].iloc[i]): \n",
    "        list_connection.append(df['msg'].iloc[i])"
   ]
  },
  {
   "cell_type": "code",
   "execution_count": 8,
   "metadata": {},
   "outputs": [],
   "source": [
    "# Metadata信息拆解 ip, port. 进程不一定能匹配到所有的端口号，故交给捕捉脚本即可\n",
    "meta_ip, meta_port = [], []\n",
    "pattern_metainfo = r'(\\d+\\.\\d+\\.\\d+\\.\\d+):(\\d+)'\n",
    "for entry in list_metadata: \n",
    "    match = re.search(pattern_metainfo, entry) # search()查找字符串中第一个匹配的部分\n",
    "    if match: \n",
    "        meta_ip.append(match.group(1))\n",
    "        meta_port.append(match.group(2))"
   ]
  },
  {
   "cell_type": "code",
   "execution_count": 9,
   "metadata": {},
   "outputs": [],
   "source": [
    "# Connection信息拆解, inRemote: IP Port; inLoc: IP Port; outLoc: IP Port; outRemote: IP Port \n",
    "inRemoteIP, inRemotePort = [], []\n",
    "inLocIP, inLocPort = [], []\n",
    "outLocIP, outLocPort = [], []\n",
    "outRemoteIP, outRemotePort= [], []\n",
    "pattern_conninfo = r'(\\d+\\.\\d+\\.\\d+\\.\\d+):(\\d+)'\n",
    "\n",
    "for entry in list_connection: \n",
    "    matches = re.findall(pattern_conninfo, entry) \n",
    "    # print()\n",
    "    inRemoteIP.append(matches[1][0]), inRemotePort.append(matches[1][1])\n",
    "    inLocIP.append(matches[0][0]), inLocPort.append(matches[0][1]) \n",
    "    outLocIP.append(matches[2][0]), outLocPort.append(matches[2][1])\n",
    "    outRemoteIP.append(matches[3][0]), outRemotePort.append(matches[3][1])"
   ]
  },
  {
   "cell_type": "code",
   "execution_count": 22,
   "metadata": {},
   "outputs": [],
   "source": [
    "df_connection = pd.DataFrame({\n",
    "    'inRemoteIP': inRemoteIP,\n",
    "    'inRemotePort': inRemotePort,\n",
    "    'inLocIP': inLocIP,\n",
    "    'inLocPort': inLocPort,\n",
    "    'outLocIP': outLocIP,\n",
    "    'outLocPort': outLocPort,\n",
    "    'outRemoteIP': outRemoteIP,\n",
    "    'outRemotePort': outRemotePort\n",
    "})\n"
   ]
  },
  {
   "cell_type": "code",
   "execution_count": 23,
   "metadata": {},
   "outputs": [],
   "source": [
    "df_conn_filter = df_connection[df_connection['inRemotePort'].isin(process_port_tcp)] # 需要将字符串类型转换为int"
   ]
  },
  {
   "cell_type": "code",
   "execution_count": 24,
   "metadata": {},
   "outputs": [],
   "source": [
    "outboundPorts = set(df_conn_filter['outLocPort'])\n",
    "tcp_filter = f\"tcp.port in {{{', '.join(outboundPorts)}}}\""
   ]
  },
  {
   "cell_type": "code",
   "execution_count": 9,
   "metadata": {},
   "outputs": [],
   "source": [
    "# 指定截断时间\n",
    "cutoff_time_pre = parser.isoparse(\"2024-09-23T16:43:39.5558452+08:00\")\n",
    "# cutoff_time_post = parser.isoparse(\"2024-09-23T16:44:05.1522054+08:00\")\n",
    "\n",
    "# 打开日志文件\n",
    "with open(log_file_path, 'r') as file, open(output_log_path, 'w') as output:\n",
    "    for line in file:\n",
    "        # 提取时间戳\n",
    "        time_str = line.split(' ')[0].split('=')[1].strip('\"')\n",
    "        log_time = parser.isoparse(time_str)\n",
    "        \n",
    "        # 检查时间是否在指定时间之后\n",
    "        if log_time >= cutoff_time_pre: \n",
    "            output.write(line)\n"
   ]
  }
 ],
 "metadata": {
  "kernelspec": {
   "display_name": "Pytorch_envs",
   "language": "python",
   "name": "python3"
  },
  "language_info": {
   "codemirror_mode": {
    "name": "ipython",
    "version": 3
   },
   "file_extension": ".py",
   "mimetype": "text/x-python",
   "name": "python",
   "nbconvert_exporter": "python",
   "pygments_lexer": "ipython3",
   "version": "3.9.12"
  }
 },
 "nbformat": 4,
 "nbformat_minor": 2
}
