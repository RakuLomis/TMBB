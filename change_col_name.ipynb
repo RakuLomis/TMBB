{
 "cells": [
  {
   "cell_type": "code",
   "execution_count": 1,
   "metadata": {},
   "outputs": [],
   "source": [
    "import pandas as pd\n",
    "import os\n",
    "\n",
    "# directory = os.path.join(\".\", \"csv\", \"packets\") \n",
    "directory = os.path.join('.', 'traffictracer', 'Meta') \n",
    "directory_wlan = os.path.join('.', 'traffictracer', 'WLAN') \n",
    "tshark_directory = os.path.join('.', 'traffictracer')\n",
    "statistic_directory = ['WLAN_statistics', 'Meta_statistics']"
   ]
  },
  {
   "cell_type": "code",
   "execution_count": 3,
   "metadata": {},
   "outputs": [
    {
     "name": "stdout",
     "output_type": "stream",
     "text": [
      "Skip WLAN-24-10-27--15-49-13.csv\n",
      "Skip WLAN-24-10-30--09-52-28.csv\n",
      "Skip Meta-24-10-27--15-49-13.csv\n",
      "Skip Meta-24-10-30--09-52-28.csv\n",
      "Skip Meta-24-11-07--10-19-16.csv\n",
      "Skip Meta-24-11-07--10-25-29.csv\n",
      "Skip Meta-24-11-07--10-32-20.csv\n",
      "Skip Meta-24-11-07--11-08-34.csv\n",
      "Skip Meta-24-11-07--11-24-21.csv\n",
      "Skip Meta-24-11-07--11-31-59.csv\n",
      "Skip Meta-24-11-07--15-15-47.csv\n",
      "Skip Meta-24-11-07--15-36-37.csv\n",
      "Skip Meta-24-11-07--15-38-38.csv\n",
      "Skip Meta-24-11-07--15-41-25.csv\n",
      "Skip Meta-24-11-07--15-42-58.csv\n",
      "Skip Meta-24-11-07--15-46-14.csv\n",
      "Skip Meta-24-11-07--15-52-05.csv\n",
      "Skip Meta-24-11-07--15-58-43.csv\n",
      "Skip Meta-24-11-07--16-04-47.csv\n",
      "Skip Meta-24-11-07--16-55-07.csv\n",
      "Skip Meta-24-11-07--17-01-16.csv\n",
      "Skip Meta-24-11-07--17-06-23.csv\n"
     ]
    }
   ],
   "source": [
    "for sd in statistic_directory: \n",
    "    merge_directory = os.path.join(tshark_directory, sd)\n",
    "    for filename in os.listdir(merge_directory): \n",
    "        if filename.endswith('.txt'): \n",
    "            text_file = os.path.join(merge_directory, filename) \n",
    "            csv_file = os.path.join(merge_directory, filename[:-4] + '.csv')\n",
    "            os.rename(text_file, csv_file)\n",
    "        else: \n",
    "            print(f\"Skip {filename}\")"
   ]
  },
  {
   "cell_type": "code",
   "execution_count": 2,
   "metadata": {},
   "outputs": [
    {
     "name": "stderr",
     "output_type": "stream",
     "text": [
      "C:\\Users\\Raku\\AppData\\Local\\Temp\\ipykernel_9068\\594755225.py:5: DtypeWarning: Columns (8) have mixed types. Specify dtype option on import or set low_memory=False.\n",
      "  df = pd.read_csv(file_path)\n"
     ]
    },
    {
     "name": "stdout",
     "output_type": "stream",
     "text": [
      ".\\traffictracer\\WLAN\\WLAN-24-10-27--15-49-13.csv changed successfully.\n",
      ".\\traffictracer\\WLAN\\WLAN-24-10-30--09-52-28.csv changed successfully.\n",
      ".\\traffictracer\\WLAN\\WLAN-24-11-07--10-19-16.csv changed successfully.\n",
      ".\\traffictracer\\WLAN\\WLAN-24-11-07--10-25-29.csv changed successfully.\n",
      ".\\traffictracer\\WLAN\\WLAN-24-11-07--10-32-20.csv changed successfully.\n",
      ".\\traffictracer\\WLAN\\WLAN-24-11-07--11-08-34.csv changed successfully.\n",
      ".\\traffictracer\\WLAN\\WLAN-24-11-07--11-24-21.csv changed successfully.\n",
      ".\\traffictracer\\WLAN\\WLAN-24-11-07--11-31-59.csv changed successfully.\n",
      ".\\traffictracer\\WLAN\\WLAN-24-11-07--15-15-47.csv changed successfully.\n",
      ".\\traffictracer\\WLAN\\WLAN-24-11-07--15-36-37.csv changed successfully.\n",
      ".\\traffictracer\\WLAN\\WLAN-24-11-07--15-38-38.csv changed successfully.\n",
      ".\\traffictracer\\WLAN\\WLAN-24-11-07--15-41-25.csv changed successfully.\n",
      ".\\traffictracer\\WLAN\\WLAN-24-11-07--15-42-58.csv changed successfully.\n",
      ".\\traffictracer\\WLAN\\WLAN-24-11-07--15-46-14.csv changed successfully.\n",
      ".\\traffictracer\\WLAN\\WLAN-24-11-07--15-52-05.csv changed successfully.\n",
      ".\\traffictracer\\WLAN\\WLAN-24-11-07--15-58-43.csv changed successfully.\n",
      ".\\traffictracer\\WLAN\\WLAN-24-11-07--16-04-47.csv changed successfully.\n",
      ".\\traffictracer\\WLAN\\WLAN-24-11-07--16-55-07.csv changed successfully.\n",
      ".\\traffictracer\\WLAN\\WLAN-24-11-07--17-01-16.csv changed successfully.\n",
      ".\\traffictracer\\WLAN\\WLAN-24-11-07--17-06-23.csv changed successfully.\n"
     ]
    }
   ],
   "source": [
    "for filename in os.listdir(directory_wlan): \n",
    "    if filename.endswith('.csv'): \n",
    "        file_path = os.path.join(directory_wlan, filename)\n",
    "\n",
    "        df = pd.read_csv(file_path)\n",
    "\n",
    "        # indices = [i for i, col in enumerate(df.columns) if col == 'Stream index']\n",
    "\n",
    "        # if len(indices) == 2: \n",
    "        #     df.column.values[indices[0]] = 'TCP Stream index'\n",
    "        #     df.column.values[indices[1]] = 'UDP Stream index'\n",
    "        if 'Stream index' in df.columns and 'Stream index.1' in df.columns:\n",
    "            df.rename(columns={'Stream index': 'TCP Stream index', 'Stream index.1': 'UDP Stream index'}, inplace=True)\n",
    "            print(f\"{file_path} changed successfully.\")\n",
    "            df.to_csv(file_path, index=False)\n",
    "\n",
    "        else: \n",
    "            print(f\"Skipping {filename}, column names already changed or not matching criteria.\")\n"
   ]
  },
  {
   "cell_type": "code",
   "execution_count": 3,
   "metadata": {},
   "outputs": [
    {
     "name": "stdout",
     "output_type": "stream",
     "text": [
      "No columns with '→'.\n",
      "No columns with '→'.\n",
      ".\\traffictracer\\WLAN_statistics\\WLAN-24-11-07--10-19-16.csv: Replace successfully. \n",
      ".\\traffictracer\\WLAN_statistics\\WLAN-24-11-07--10-25-29.csv: Replace successfully. \n",
      ".\\traffictracer\\WLAN_statistics\\WLAN-24-11-07--10-32-20.csv: Replace successfully. \n",
      ".\\traffictracer\\WLAN_statistics\\WLAN-24-11-07--11-08-34.csv: Replace successfully. \n",
      ".\\traffictracer\\WLAN_statistics\\WLAN-24-11-07--11-24-21.csv: Replace successfully. \n",
      ".\\traffictracer\\WLAN_statistics\\WLAN-24-11-07--11-31-59.csv: Replace successfully. \n",
      ".\\traffictracer\\WLAN_statistics\\WLAN-24-11-07--15-15-47.csv: Replace successfully. \n",
      ".\\traffictracer\\WLAN_statistics\\WLAN-24-11-07--15-36-37.csv: Replace successfully. \n",
      ".\\traffictracer\\WLAN_statistics\\WLAN-24-11-07--15-38-38.csv: Replace successfully. \n",
      ".\\traffictracer\\WLAN_statistics\\WLAN-24-11-07--15-41-25.csv: Replace successfully. \n",
      ".\\traffictracer\\WLAN_statistics\\WLAN-24-11-07--15-42-58.csv: Replace successfully. \n",
      ".\\traffictracer\\WLAN_statistics\\WLAN-24-11-07--15-46-14.csv: Replace successfully. \n",
      ".\\traffictracer\\WLAN_statistics\\WLAN-24-11-07--15-52-05.csv: Replace successfully. \n",
      ".\\traffictracer\\WLAN_statistics\\WLAN-24-11-07--15-58-43.csv: Replace successfully. \n",
      ".\\traffictracer\\WLAN_statistics\\WLAN-24-11-07--16-04-47.csv: Replace successfully. \n",
      ".\\traffictracer\\WLAN_statistics\\WLAN-24-11-07--16-55-07.csv: Replace successfully. \n",
      ".\\traffictracer\\WLAN_statistics\\WLAN-24-11-07--17-01-16.csv: Replace successfully. \n",
      ".\\traffictracer\\WLAN_statistics\\WLAN-24-11-07--17-06-23.csv: Replace successfully. \n",
      "No columns with '→'.\n",
      "No columns with '→'.\n",
      ".\\traffictracer\\Meta_statistics\\Meta-24-11-07--10-19-16.csv: Replace successfully. \n",
      ".\\traffictracer\\Meta_statistics\\Meta-24-11-07--10-25-29.csv: Replace successfully. \n",
      ".\\traffictracer\\Meta_statistics\\Meta-24-11-07--10-32-20.csv: Replace successfully. \n",
      ".\\traffictracer\\Meta_statistics\\Meta-24-11-07--11-08-34.csv: Replace successfully. \n",
      ".\\traffictracer\\Meta_statistics\\Meta-24-11-07--11-24-21.csv: Replace successfully. \n",
      ".\\traffictracer\\Meta_statistics\\Meta-24-11-07--11-31-59.csv: Replace successfully. \n",
      ".\\traffictracer\\Meta_statistics\\Meta-24-11-07--15-15-47.csv: Replace successfully. \n",
      ".\\traffictracer\\Meta_statistics\\Meta-24-11-07--15-36-37.csv: Replace successfully. \n",
      ".\\traffictracer\\Meta_statistics\\Meta-24-11-07--15-38-38.csv: Replace successfully. \n",
      ".\\traffictracer\\Meta_statistics\\Meta-24-11-07--15-41-25.csv: Replace successfully. \n",
      ".\\traffictracer\\Meta_statistics\\Meta-24-11-07--15-42-58.csv: Replace successfully. \n",
      ".\\traffictracer\\Meta_statistics\\Meta-24-11-07--15-46-14.csv: Replace successfully. \n",
      ".\\traffictracer\\Meta_statistics\\Meta-24-11-07--15-52-05.csv: Replace successfully. \n",
      ".\\traffictracer\\Meta_statistics\\Meta-24-11-07--15-58-43.csv: Replace successfully. \n",
      ".\\traffictracer\\Meta_statistics\\Meta-24-11-07--16-04-47.csv: Replace successfully. \n",
      ".\\traffictracer\\Meta_statistics\\Meta-24-11-07--16-55-07.csv: Replace successfully. \n",
      ".\\traffictracer\\Meta_statistics\\Meta-24-11-07--17-01-16.csv: Replace successfully. \n",
      ".\\traffictracer\\Meta_statistics\\Meta-24-11-07--17-06-23.csv: Replace successfully. \n"
     ]
    }
   ],
   "source": [
    "for sd in statistic_directory: \n",
    "    merge_directory = os.path.join(tshark_directory, sd)\n",
    "    for filename in os.listdir(merge_directory): \n",
    "        if filename.endswith('.csv'): \n",
    "            file_path = os.path.join(merge_directory, filename) \n",
    "            df = pd.read_csv(file_path) \n",
    "            if any('→' in col for col in df.columns): \n",
    "                df.columns = [col.replace('→', 'to') for col in df.columns] \n",
    "                df.to_csv(file_path, index=False) \n",
    "                print(f\"{file_path}: Replace successfully. \")\n",
    "            else: \n",
    "                print(\"No columns with '→'.\")\n"
   ]
  },
  {
   "cell_type": "code",
   "execution_count": 7,
   "metadata": {},
   "outputs": [
    {
     "name": "stderr",
     "output_type": "stream",
     "text": [
      "C:\\Users\\Raku\\AppData\\Local\\Temp\\ipykernel_96536\\2645737842.py:1: DtypeWarning: Columns (8) have mixed types. Specify dtype option on import or set low_memory=False.\n",
      "  test = pd.read_csv(\"./traffictracer/Meta/Meta-24-11-07--15-46-14.csv\")\n"
     ]
    }
   ],
   "source": [
    "test = pd.read_csv(\"./traffictracer/Meta/Meta-24-11-07--15-46-14.csv\")\n",
    "test1 = pd.read_csv(\"./traffictracer/Meta/Meta-24-11-07--15-42-58.csv\")"
   ]
  },
  {
   "cell_type": "code",
   "execution_count": 5,
   "metadata": {},
   "outputs": [
    {
     "name": "stdout",
     "output_type": "stream",
     "text": [
      "No.                   int64\n",
      "Time                float64\n",
      "Source               object\n",
      "Destination          object\n",
      "Protocol             object\n",
      "Length                int64\n",
      "Source Port         float64\n",
      "Destination Port    float64\n",
      "Server Name          object\n",
      "TCP Stream index    float64\n",
      "UDP Stream index    float64\n",
      "TCP Segment Len     float64\n",
      "Info                 object\n",
      "dtype: object\n"
     ]
    }
   ],
   "source": [
    "print(test.dtypes)"
   ]
  },
  {
   "cell_type": "code",
   "execution_count": 8,
   "metadata": {},
   "outputs": [
    {
     "name": "stdout",
     "output_type": "stream",
     "text": [
      "No.                   int64\n",
      "Time                float64\n",
      "Source               object\n",
      "Destination          object\n",
      "Protocol             object\n",
      "Length                int64\n",
      "Source Port         float64\n",
      "Destination Port    float64\n",
      "Server Name          object\n",
      "TCP Stream index    float64\n",
      "UDP Stream index    float64\n",
      "TCP Segment Len     float64\n",
      "Info                 object\n",
      "dtype: object\n"
     ]
    }
   ],
   "source": [
    "print(test1.dtypes)"
   ]
  },
  {
   "cell_type": "code",
   "execution_count": 10,
   "metadata": {},
   "outputs": [],
   "source": [
    "column8 = test.iloc[:, 7]"
   ]
  },
  {
   "cell_type": "code",
   "execution_count": 12,
   "metadata": {},
   "outputs": [],
   "source": [
    "test2 = pd.read_csv(\"./traffictracer/Meta/Meta-24-11-07--10-25-29.csv\")"
   ]
  }
 ],
 "metadata": {
  "kernelspec": {
   "display_name": "Pytorch_envs",
   "language": "python",
   "name": "python3"
  },
  "language_info": {
   "codemirror_mode": {
    "name": "ipython",
    "version": 3
   },
   "file_extension": ".py",
   "mimetype": "text/x-python",
   "name": "python",
   "nbconvert_exporter": "python",
   "pygments_lexer": "ipython3",
   "version": "3.9.12"
  }
 },
 "nbformat": 4,
 "nbformat_minor": 2
}
