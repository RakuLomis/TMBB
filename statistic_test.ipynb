{
 "cells": [
  {
   "cell_type": "markdown",
   "metadata": {},
   "source": [
    "Test the three attributions of stream: Packets, Bytes, Flows. Specifically, flows here means the number of changing times between flows with payload from different direction. \n",
    "\n",
    "- $\\frac{P}{F}$: \n",
    "- $\\frac{B}{P}$: \n",
    "- $\\frac{B}{F}$: \n"
   ]
  },
  {
   "cell_type": "code",
   "execution_count": 1,
   "metadata": {},
   "outputs": [],
   "source": [
    "import pandas as pd\n",
    "import numpy as np\n",
    "import matplotlib.pyplot as plt\n",
    "from scipy import stats\n",
    "from scipy.stats import entropy"
   ]
  },
  {
   "cell_type": "code",
   "execution_count": 2,
   "metadata": {},
   "outputs": [],
   "source": [
    "# stream information\n",
    "data = pd.read_csv(\"./csv/statistics/unlabelled/ts_np_video1_bili_chrome_24-09-06--16-25-44.csv\")\n",
    "\n",
    "data_3tuple = data[['Stream ID', 'Packets', 'Bytes', 'Flows']].set_index('Stream ID')"
   ]
  },
  {
   "cell_type": "code",
   "execution_count": 7,
   "metadata": {},
   "outputs": [],
   "source": [
    "# packets information\n",
    "# packets = pd.read_csv(\"./csv/packets/np_video1_bili_chrome_24-09-06--16-25-44.csv\")\n",
    "packets = pd.read_csv(\"./csv/packets/1_np_video1_bili_chrome_24-09-06--16-25-44.csv\") # with tcp segment column\n",
    "packets = packets.dropna(subset=['TCP Stream index'])\n",
    "# stream_number = 57\n",
    "# stream_packets = packets[packets['TCP Stream index'] == stream_number]"
   ]
  },
  {
   "cell_type": "code",
   "execution_count": 8,
   "metadata": {},
   "outputs": [],
   "source": [
    "# domain name manual\n",
    "domain = pd.read_csv(\"./csv/domain/domain_np_video1_bili_chrome_24-09-06--16-25-44.csv\")\n",
    "domain_stream = {key: [] for key in domain['Domain Name']} # {'Domain Name': [Stream ID]}\n",
    "# In packets, domain name is in the TLS handshake packets named 'Server Name'\n",
    "packets_server_name = packets.dropna(subset=['Server Name']) # drop\n",
    "\n",
    "packets_server_name_unique = packets['Server Name'].dropna().unique()\n",
    "domain_stream_all = {key: [] for key in packets_server_name_unique}"
   ]
  },
  {
   "cell_type": "code",
   "execution_count": 5,
   "metadata": {},
   "outputs": [],
   "source": [
    "for name in domain_stream.keys(): # retrieve the dictionary\n",
    "    stream_ids = packets.loc[packets['Server Name'] == name, 'TCP Stream index']\n",
    "    domain_stream[name].extend(stream_ids)"
   ]
  },
  {
   "cell_type": "code",
   "execution_count": 9,
   "metadata": {},
   "outputs": [],
   "source": [
    "for name in domain_stream_all.keys(): \n",
    "    stream_ids = packets.loc[packets['Server Name'] == name, 'TCP Stream index']\n",
    "    domain_stream_all[name].extend(stream_ids)"
   ]
  },
  {
   "cell_type": "code",
   "execution_count": null,
   "metadata": {},
   "outputs": [],
   "source": [
    "for name, stream in domain_stream.items():\n",
    "    for stream_id in stream:\n",
    "        stream_packets = packets[packets['TCP Stream index'] == stream_id] # sentence in [] return bool series\n",
    "        plt.figure(figsize=(5, 3))\n",
    "        # plt.bar(stream_packets['Time'], stream_packets['Length'])\n",
    "        plt.plot(stream_packets['Time'], stream_packets['Length'], marker='*')\n",
    "        plt.title(f'{name}: Stream {stream_id}')\n",
    "        plt.xlabel('Time')\n",
    "        plt.ylabel('Length')\n",
    "        plt.grid(True)\n",
    "        plt.savefig(f'./test/imgs/{name}-Stream{stream_id}.png', dpi=300, bbox_inches='tight')\n",
    "        plt.clf() # clear the cache"
   ]
  },
  {
   "cell_type": "code",
   "execution_count": 8,
   "metadata": {},
   "outputs": [],
   "source": [
    "def flow_reversal_entropy(stream_no):\n",
    "    \"\"\"\n",
    "    Calculate Bytes of each flow reversals, which can be definied into the effective information  \n",
    "    \"\"\"\n",
    "    packets_stream = packets[packets['TCP Stream index'] == stream_no]\n",
    "\n",
    "    if not packets_stream.empty:\n",
    "        src_ip_temp = packets_stream.iloc[0]['Source']\n",
    "        flow_no = 0\n",
    "        flow_entropy_list = [0]  # init the first flow entropy\n",
    "        flow_time_list = [0] # init the first flow time, duration of flow_reversal[0] = flow_time_list[1] - flow_time_list[0]\n",
    "        initial_time = True\n",
    "\n",
    "        for packet_no in range(packets_stream.shape[0]): \n",
    "            packet_current = packets_stream.iloc[packet_no]\n",
    "            if packet_current['TCP Segment Len'] > 0: # if the packet has payload\n",
    "                if src_ip_temp == packet_current['Source']:\n",
    "                    if initial_time:\n",
    "                        flow_time_list[flow_no] = packet_current['Time']\n",
    "                        initial_time = False\n",
    "                    flow_entropy_list[flow_no] += (packet_current['TCP Segment Len'])\n",
    "                    # flow_time_list[flow_no][0] = packet_current['Time']\n",
    "                else: # first time change the direction\n",
    "                    flow_no += 1\n",
    "                    flow_entropy_list.append(0)  # init new flow entropy\n",
    "                    src_ip_temp = packet_current['Source']\n",
    "                    flow_entropy_list[flow_no] += (packet_current['TCP Segment Len'])\n",
    "                    flow_time_list.append(0)\n",
    "                    flow_time_list[flow_no] = packet_current['Time']\n",
    "\n",
    "    return flow_entropy_list, flow_time_list\n"
   ]
  },
  {
   "cell_type": "code",
   "execution_count": 9,
   "metadata": {},
   "outputs": [
    {
     "data": {
      "text/plain": [
       "<Figure size 640x480 with 0 Axes>"
      ]
     },
     "metadata": {},
     "output_type": "display_data"
    }
   ],
   "source": [
    "for name, stream in domain_stream.items():\n",
    "    for stream_id in stream:\n",
    "        entropy_list, time_list = flow_reversal_entropy(stream_id)\n",
    "        plt.plot(time_list, entropy_list, marker='*')\n",
    "        plt.title(f'Stream{stream_id} Time-Entropy')\n",
    "        plt.xlabel('Time')\n",
    "        plt.ylabel('Entropy')\n",
    "        plt.grid(True)\n",
    "        plt.savefig(f'./test/entropy-time-imgs/{name}-Stream{stream_id}.png', dpi=300, bbox_inches='tight')\n",
    "        # plt.show()\n",
    "        plt.clf() # clear the cache"
   ]
  },
  {
   "cell_type": "code",
   "execution_count": 11,
   "metadata": {},
   "outputs": [],
   "source": [
    "stream_no = 3\n",
    "packets_stream = packets[packets['TCP Stream index'] == stream_no]\n",
    "\n",
    "if not packets_stream.empty:\n",
    "    src_ip_temp = packets_stream.iloc[0]['Source']\n",
    "    flow_no = 0\n",
    "    flow_entropy_list = [0]  # init the first flow entropy\n",
    "    flow_time_list = [0] # init the fist flow time, duration of flow_reversal[0] = flow_time_list[1] - flow_time_list[0]\n",
    "    initial_time = True\n",
    "\n",
    "    for packet_no in range(packets_stream.shape[0]): \n",
    "        packet_current = packets_stream.iloc[packet_no]\n",
    "        if packet_current['TCP Segment Len'] > 0: # if the packet has payload\n",
    "            if src_ip_temp == packet_current['Source']:\n",
    "                if initial_time:\n",
    "                    flow_time_list[flow_no] = packet_current['Time']\n",
    "                    initial_time = False\n",
    "                flow_entropy_list[flow_no] += (packet_current['TCP Segment Len'])\n",
    "            else:\n",
    "                flow_no += 1\n",
    "                flow_entropy_list.append(0)  # init new flow entropy\n",
    "                src_ip_temp = packet_current['Source']\n",
    "                flow_entropy_list[flow_no] += (packet_current['TCP Segment Len'])\n",
    "                flow_time_list.append(0)\n",
    "                flow_time_list[flow_no] = packet_current['Time']"
   ]
  },
  {
   "cell_type": "code",
   "execution_count": 12,
   "metadata": {},
   "outputs": [
    {
     "data": {
      "image/png": "[encoded data removed]",
      "text/plain": [
       "<Figure size 640x480 with 1 Axes>"
      ]
     },
     "metadata": {},
     "output_type": "display_data"
    },
    {
     "data": {
      "text/plain": [
       "<Figure size 640x480 with 0 Axes>"
      ]
     },
     "metadata": {},
     "output_type": "display_data"
    }
   ],
   "source": [
    "plt.plot(flow_time_list, flow_entropy_list, marker='*')\n",
    "plt.title(\"time-entropy\")\n",
    "plt.xlabel('Time')\n",
    "plt.ylabel('Length')\n",
    "plt.grid(True)\n",
    "# plt.savefig(f'./test/imgs/{name}-Stream{stream_id}.png', dpi=300, bbox_inches='tight')\n",
    "plt.show()\n",
    "plt.clf() # clear the cache"
   ]
  },
  {
   "cell_type": "code",
   "execution_count": null,
   "metadata": {},
   "outputs": [],
   "source": [
    "# test the distribution of two streams\n",
    "# lognormal distribution can only work on 1-d data\n",
    "# dist_stream1, dist_stream2 = 31, 40\n",
    "# s1 = packets[packets['TCP Stream index'] == dist_stream1]\n",
    "# s2 = packets[packets['TCP Stream index'] == dist_stream2]\n"
   ]
  },
  {
   "cell_type": "code",
   "execution_count": 3,
   "metadata": {},
   "outputs": [],
   "source": [
    "data_3tuple['P/F'] = (data_3tuple['Packets'] / data_3tuple['Flows']).round(3)\n",
    "data_3tuple['B/P'] = (data_3tuple['Bytes'] / data_3tuple['Packets']).round(3)\n",
    "data_3tuple['B/F'] = (data_3tuple['Bytes'] / data_3tuple['Flows']).round(3)\n",
    "# For inactive streams, it may have inf value"
   ]
  },
  {
   "cell_type": "code",
   "execution_count": 4,
   "metadata": {},
   "outputs": [],
   "source": [
    "data_3tuple = data_3tuple.replace([np.inf, -np.inf], np.nan).dropna(axis=0, how='any')"
   ]
  },
  {
   "cell_type": "code",
   "execution_count": 6,
   "metadata": {},
   "outputs": [],
   "source": [
    "# data_3tuple.to_csv('./csv/statistics/test/data_3tuple.csv')"
   ]
  }
 ],
 "metadata": {
  "kernelspec": {
   "display_name": "Pytorch_envs",
   "language": "python",
   "name": "python3"
  },
  "language_info": {
   "codemirror_mode": {
    "name": "ipython",
    "version": 3
   },
   "file_extension": ".py",
   "mimetype": "text/x-python",
   "name": "python",
   "nbconvert_exporter": "python",
   "pygments_lexer": "ipython3",
   "version": "3.9.12"
  }
 },
 "nbformat": 4,
 "nbformat_minor": 2
}
