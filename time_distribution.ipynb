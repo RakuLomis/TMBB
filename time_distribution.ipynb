{
 "cells": [
  {
   "cell_type": "code",
   "execution_count": 1,
   "metadata": {},
   "outputs": [],
   "source": [
    "import pandas as pd\n",
    "import numpy as np\n",
    "import matplotlib.pyplot as plt\n",
    "from scipy import stats\n",
    "from scipy.stats import entropy \n",
    "import os"
   ]
  },
  {
   "cell_type": "code",
   "execution_count": 2,
   "metadata": {},
   "outputs": [],
   "source": [
    "tshark_directory = os.path.join('.', 'traffictracer')\n",
    "statistic_directory = ['WLAN_statistics', 'Meta_statistics'] \n",
    "ori_directory = ['WLAN', 'Meta'] \n",
    "port_directory = 'tshark_port' \n",
    "conn_directory = 'conn_in_out' \n",
    "evaluation_directory = 'evaluation'\n",
    "data_date = '24-11-07'\n",
    "\n",
    "meta_prefix = 'Meta-' \n",
    "wlan_prefix = 'WLAN-' \n",
    "conn_prefix = 'conn-in-out-'"
   ]
  },
  {
   "cell_type": "code",
   "execution_count": 3,
   "metadata": {},
   "outputs": [],
   "source": [
    "def getTCPStreamNumberSet(traffic_set: pd.DataFrame): \n",
    "    \"\"\" \n",
    "    Input the conn_sni.csv files and\n",
    "\n",
    "    Return the order set: ([M Stream ID, W Stream ID]) of traffic_set. \n",
    "    \"\"\"\n",
    "    \n",
    "    return set(zip(traffic_set['M Stream ID'], traffic_set['W Stream ID'])) \n",
    "    "
   ]
  },
  {
   "cell_type": "code",
   "execution_count": null,
   "metadata": {},
   "outputs": [],
   "source": [
    "def getFlowReversals(packets: pd.DataFrame, fr_dict: dict): \n",
    "    if not packets.empty: \n",
    "        ori_ip = packets.iloc[0]['Source'] \n",
    "        src_ip_temp = packets.iloc[0]['Source'] \n",
    "        direction = 0 \n",
    "        is_empty = True # 上一个反向的包空不空，其实仅用于初始化 \n",
    "        for packet_no in range(packets.shape[0]): \n",
    "            current_packet = packets.iloc[packet_no]\n",
    "            if current_packet['TCP Segment Len'] > 0: \n",
    "                if current_packet['Source'] != src_ip_temp: \n",
    "                    if not is_empty: \n",
    "                        fr_dict['Time'].append(current_packet['Time']) \n",
    "                        fr_dict['StreamID'].append(current_packet['TCP Stream index']) \n",
    "                        if current_packet['Source'] == ori_ip: # 翻转，但是包从B->A，即A非空包\n",
    "                            direction = 0\n",
    "                            fr_dict['Direction'].append(direction) \n",
    "                        else: # 产生翻转，且是A->B，即B非空包 \n",
    "                            direction = 1 \n",
    "                            fr_dict['Direction'].append(direction)\n",
    "                        src_ip_temp = current_packet['Source'] \n",
    "                        is_empty = False \n",
    "                    else: \n",
    "                        is_empty = False \n",
    "                else: \n",
    "                    is_empty = False "
   ]
  },
  {
   "cell_type": "code",
   "execution_count": 11,
   "metadata": {},
   "outputs": [],
   "source": [
    "def recordPacketInfo(fr_dict: dict, packet: pd.Series, ori_ip, direction: int): \n",
    "    fr_dict['Time'].append(packet['Time']) \n",
    "    fr_dict['StreamID'].append(packet['TCP Stream index']) \n",
    "    if packet['Source'] == ori_ip: # 从alice发出的包\n",
    "        direction = 0\n",
    "        fr_dict['Direction'].append(direction) \n",
    "    else: # 从bob发出的包\n",
    "        direction = 1 \n",
    "        fr_dict['Direction'].append(direction) \n",
    "\n",
    "def getFlowReversalsReal(packets: pd.DataFrame, fr_dict: dict): \n",
    "    # 方向定义: 针对当前捕获到的包。\n",
    "    # 0: alice -> bob; 1: bob -> alice\n",
    "    if not packets.empty: \n",
    "        ori_ip = packets.iloc[0]['Source'] \n",
    "        src_ip_temp = packets.iloc[0]['Source'] \n",
    "        direction = 0 \n",
    "        is_First = True # 上一个反向的包空不空，其实仅用于初始化 \n",
    "        for packet_no in range(packets.shape[0]): \n",
    "            current_packet = packets.iloc[packet_no]\n",
    "            if current_packet['TCP Segment Len'] > 0: # 非空包 \n",
    "                if is_First: # 第一个包 \n",
    "                    recordPacketInfo(fr_dict, current_packet, ori_ip, direction)\n",
    "                    is_First = False\n",
    "                if current_packet['Source'] != src_ip_temp: # 与上次IP不同 \n",
    "                    recordPacketInfo(fr_dict, current_packet, ori_ip, direction)\n",
    "                src_ip_temp = current_packet['Source'] "
   ]
  },
  {
   "cell_type": "code",
   "execution_count": 10,
   "metadata": {},
   "outputs": [],
   "source": [
    "def getBAFR(b_set: pd.DataFrame, a_set: pd.DataFrame, streams_pairs: set): \n",
    "    # fr_dict_temp = { # template of fr dictionary\n",
    "    #     'Time': [], \n",
    "    #     'Direction': [], # A->B: 0, B-A: 1\n",
    "    #     'StreamID': []\n",
    "    # }\n",
    "    # bp_fr_dict = fr_dict_temp.copy() \n",
    "    # ap_fr_dict = fr_dict_temp.copy() \n",
    "    bp_fr_dict = { # template of fr dictionary\n",
    "        'Time': [], \n",
    "        'Direction': [], # A->B: 0, B-A: 1\n",
    "        'StreamID': []\n",
    "    }\n",
    "    ap_fr_dict = { # template of fr dictionary\n",
    "        'Time': [], \n",
    "        'Direction': [], # A->B: 0, B-A: 1\n",
    "        'StreamID': []\n",
    "    } \n",
    "    for b_id, a_id in streams_pairs: \n",
    "        bp_packets = b_set[b_set['TCP Stream index'] == b_id] \n",
    "        ap_packets = a_set[a_set['TCP Stream index'] == a_id] \n",
    "        # getFlowReversals(bp_packets, bp_fr_dict) \n",
    "        getFlowReversalsReal(bp_packets, bp_fr_dict) \n",
    "        # getFlowReversals(ap_packets, ap_fr_dict) \n",
    "        getFlowReversalsReal(ap_packets, ap_fr_dict) \n",
    "    return bp_fr_dict, ap_fr_dict"
   ]
  },
  {
   "cell_type": "code",
   "execution_count": 12,
   "metadata": {},
   "outputs": [
    {
     "name": "stdout",
     "output_type": "stream",
     "text": [
      "conn-in-out-24-11-07--10-19-16.csv {(42, 39), (43, 40), (78, 68), (118, 116), (66, 57), (79, 69), (67, 58), (61, 54), (44, 41), (106, 104), (58, 51), (24, 22), (41, 38), (77, 67), (52, 47), (156, 153), (46, 43), (157, 154), (53, 48), (47, 44), (59, 52)}\n",
      "conn-in-out-24-11-07--10-25-29.csv {(52, 46), (86, 66), (76, 57), (85, 65), (63, 54), (164, 136), (69, 58), (59, 51), (72, 59), (48, 42), (50, 44), (93, 71), (56, 50), (47, 41), (49, 43), (53, 47), (64, 53), (24, 24)}\n",
      "conn-in-out-24-11-07--10-32-20.csv {(86, 72), (26, 24), (46, 42), (75, 63), (76, 64), (71, 59), (42, 38), (41, 36), (43, 39), (77, 65), (52, 48), (40, 37), (83, 69), (53, 49), (84, 70), (142, 133), (80, 66), (49, 45), (85, 71), (63, 53), (45, 41), (81, 67), (64, 54)}\n",
      "conn-in-out-24-11-07--11-08-34.csv {(51, 38), (60, 47), (69, 56), (78, 65), (86, 72), (122, 92), (48, 36), (74, 61), (47, 37), (79, 66), (56, 43), (99, 84), (52, 39), (113, 89), (61, 48), (70, 57), (57, 44), (66, 53), (75, 62), (100, 85), (76, 63), (111, 88), (53, 40), (62, 49), (71, 58), (96, 81), (72, 59), (116, 90), (129, 93), (58, 45), (67, 54), (77, 64), (97, 82), (117, 91), (68, 55), (54, 41), (63, 50), (55, 42), (73, 60), (130, 94), (59, 46)}\n",
      "conn-in-out-24-11-07--11-24-21.csv {(42, 39), (59, 55), (129, 101), (46, 42), (123, 97), (40, 35), (136, 106), (45, 37), (96, 79), (54, 49), (116, 94), (99, 81), (55, 50), (64, 59), (50, 45), (51, 46), (43, 36), (104, 86), (132, 102), (97, 80), (48, 44), (65, 60), (49, 43), (75, 68), (100, 82), (119, 95), (137, 107), (36, 30), (133, 103), (56, 51), (125, 99), (126, 100), (41, 38), (101, 83), (113, 91), (44, 40), (35, 31), (52, 47), (60, 54), (61, 56), (38, 33), (39, 34), (92, 77), (57, 52), (93, 78), (53, 48), (62, 57), (134, 104), (135, 105), (47, 41), (82, 75), (58, 53)}\n",
      "conn-in-out-24-11-07--11-31-59.csv {(51, 44), (121, 97), (129, 104), (69, 62), (115, 96), (50, 43), (73, 66), (97, 87), (109, 89), (74, 67), (45, 37), (110, 90), (56, 49), (55, 47), (82, 74), (130, 105), (44, 38), (52, 45), (70, 63), (57, 50), (48, 41), (75, 68), (94, 84), (53, 46), (76, 69), (54, 48), (71, 64), (72, 65), (58, 51), (67, 60), (113, 94), (60, 54), (61, 53), (114, 95), (95, 85), (122, 99), (49, 42), (66, 58), (65, 59), (68, 61), (96, 86), (64, 57), (59, 52)}\n",
      "conn-in-out-24-11-07--15-15-47.csv {(50, 46), (59, 55), (98, 95), (51, 47), (18, 20), (60, 56), (29, 26), (46, 42), (84, 81), (70, 67), (5, 7), (80, 77), (39, 36), (65, 61), (89, 86), (34, 31), (85, 82), (94, 91), (30, 27), (56, 52), (6, 8), (72, 69), (81, 78), (99, 96), (77, 74), (52, 48), (61, 57), (38, 34), (40, 37), (31, 28), (86, 83), (95, 92), (57, 53), (76, 72), (37, 35), (91, 88), (53, 49), (93, 90), (73, 70), (32, 29), (41, 38), (58, 54), (67, 63), (82, 79), (79, 76), (3, 5), (22, 21), (49, 45), (48, 43), (97, 94), (17, 19), (74, 71), (75, 73), (88, 85), (64, 60), (45, 41), (54, 50), (47, 44), (55, 51), (63, 59), (33, 30)}\n",
      "conn-in-out-24-11-07--15-36-37.csv {(61, 49), (26, 24), (70, 58), (38, 29), (80, 68), (39, 30), (48, 36), (66, 54), (75, 63), (76, 64), (85, 73), (17, 18), (53, 41), (71, 59), (55, 44), (72, 60), (56, 43), (58, 46), (81, 69), (67, 55), (44, 32), (18, 19), (77, 65), (86, 74), (95, 86), (49, 37), (68, 56), (5, 15), (45, 33), (54, 42), (36, 27), (64, 52), (73, 61), (82, 70), (96, 87), (50, 38), (59, 47), (60, 48), (3, 2), (69, 57), (78, 66), (46, 34), (65, 53), (98, 89), (74, 62), (83, 71), (37, 28), (62, 51), (63, 50), (47, 35), (79, 67), (84, 72)}\n",
      "conn-in-out-24-11-07--15-38-38.csv {(84, 69), (80, 65), (39, 27), (21, 19), (22, 20), (40, 29), (49, 38), (89, 74), (75, 60), (36, 25), (85, 70), (94, 79), (45, 34), (41, 30), (72, 57), (81, 66), (90, 75), (60, 46), (50, 39), (51, 40), (38, 28), (46, 35), (86, 71), (95, 80), (65, 51), (37, 26), (54, 42), (73, 58), (47, 36), (96, 81), (6, 4), (42, 31), (82, 67), (58, 45), (43, 32), (61, 47), (69, 54), (77, 61), (78, 63), (87, 72), (48, 37), (57, 43), (66, 52), (74, 59), (83, 68), (92, 77), (76, 62), (93, 78), (10, 10), (13, 9), (56, 44), (62, 48), (79, 64), (88, 73), (44, 33)}\n",
      "conn-in-out-24-11-07--15-41-25.csv {(43, 37), (52, 46), (78, 65), (77, 66), (95, 84), (80, 68), (104, 93), (39, 33), (48, 42), (57, 51), (91, 80), (68, 57), (76, 64), (85, 73), (19, 21), (71, 59), (99, 88), (56, 49), (96, 85), (105, 94), (55, 50), (81, 69), (58, 52), (86, 74), (35, 29), (44, 38), (38, 31), (97, 86), (20, 22), (65, 54), (74, 63), (40, 34), (49, 43), (75, 62), (106, 95), (92, 81), (36, 30), (93, 82), (88, 77), (37, 32), (8, 20), (45, 39), (54, 48), (73, 61), (82, 70), (41, 35), (50, 44), (98, 87), (107, 96), (59, 53), (87, 75), (46, 40), (103, 92), (89, 78), (5, 8), (66, 55), (83, 71), (94, 83), (79, 67), (90, 79), (47, 41), (84, 72), (42, 36), (7, 14)}\n",
      "conn-in-out-24-11-07--15-42-58.csv {(35, 30), (101, 91), (50, 46), (29, 23), (44, 39), (77, 72), (78, 71), (22, 20), (40, 35), (49, 44), (57, 51), (97, 87), (34, 28), (92, 82), (66, 60), (75, 69), (76, 70), (45, 40), (36, 31), (54, 49), (93, 83), (102, 92), (88, 78), (32, 27), (98, 88), (56, 52), (55, 50), (33, 29), (59, 54), (67, 61), (12, 9), (86, 77), (103, 93), (87, 76), (60, 55), (89, 79), (11, 7), (85, 75), (94, 84), (68, 62), (37, 32), (72, 65), (81, 74), (90, 80), (99, 89), (73, 67), (43, 38), (51, 45), (52, 47), (69, 63), (95, 85), (104, 94), (48, 43), (74, 68), (79, 73), (91, 81), (100, 90), (109, 99), (96, 86), (53, 48), (62, 57), (6, 6), (71, 66), (105, 95), (58, 53), (42, 36), (41, 34)}\n"
     ]
    },
    {
     "name": "stderr",
     "output_type": "stream",
     "text": [
      "C:\\Users\\Raku\\AppData\\Local\\Temp\\ipykernel_48116\\1879825420.py:5: DtypeWarning: Columns (8) have mixed types. Specify dtype option on import or set low_memory=False.\n",
      "  df_meta = pd.read_csv(os.path.join(tshark_directory, ori_directory[1], meta_prefix + time + '.csv'))\n"
     ]
    },
    {
     "name": "stdout",
     "output_type": "stream",
     "text": [
      "conn-in-out-24-11-07--15-46-14.csv {(44, 36), (61, 52), (60, 50), (69, 59), (77, 66), (86, 75), (38, 32), (31, 26), (49, 41), (57, 48), (34, 28), (65, 55), (91, 80), (45, 37), (17, 18), (54, 46), (62, 53), (32, 27), (50, 42), (58, 49), (59, 51), (35, 29), (51, 43), (70, 60), (78, 67), (87, 76), (66, 56), (83, 72), (36, 30), (93, 82), (71, 61), (47, 39), (79, 68), (72, 62), (88, 77), (42, 34), (67, 57), (43, 35), (52, 44), (84, 73), (29, 24), (80, 69), (48, 40), (74, 65), (23, 20), (89, 78), (8, 7), (68, 58), (2, 3), (11, 12), (30, 25), (37, 31), (53, 45), (85, 74), (73, 63), (90, 79), (16, 17)}\n",
      "conn-in-out-24-11-07--15-52-05.csv {(65, 53), (75, 61), (48, 40), (60, 50), (78, 62), (47, 39), (24, 26), (51, 43), (49, 41), (155, 131), (46, 38), (52, 44), (59, 49)}\n",
      "conn-in-out-24-11-07--15-58-43.csv {(42, 35), (31, 27), (36, 33), (89, 71), (35, 32), (81, 62), (86, 68), (53, 42), (64, 51), (76, 61), (32, 29), (30, 28), (80, 63), (61, 50), (33, 30), (90, 72)}\n",
      "conn-in-out-24-11-07--16-04-47.csv {(26, 21), (96, 70), (36, 28), (45, 34), (95, 68), (60, 46), (35, 29), (38, 31), (39, 32), (93, 67), (94, 69), (53, 40), (64, 49), (47, 36), (33, 25), (48, 37), (65, 50), (34, 26), (54, 41), (72, 55)}\n"
     ]
    },
    {
     "name": "stderr",
     "output_type": "stream",
     "text": [
      "C:\\Users\\Raku\\AppData\\Local\\Temp\\ipykernel_48116\\1879825420.py:5: DtypeWarning: Columns (8) have mixed types. Specify dtype option on import or set low_memory=False.\n",
      "  df_meta = pd.read_csv(os.path.join(tshark_directory, ori_directory[1], meta_prefix + time + '.csv'))\n"
     ]
    },
    {
     "name": "stdout",
     "output_type": "stream",
     "text": [
      "conn-in-out-24-11-07--16-55-07.csv {(127, 116), (89, 77), (19, 18), (85, 73), (63, 52), (128, 117), (81, 69), (59, 48), (124, 113), (86, 74), (65, 54), (2, 4), (87, 75), (49, 39), (83, 71), (131, 120), (93, 81), (54, 44), (79, 67), (55, 45), (24, 21), (84, 72), (35, 30), (94, 82), (56, 46), (90, 78), (44, 35), (133, 122), (20, 19), (39, 32), (57, 47), (129, 118), (91, 79), (9, 7), (68, 56), (33, 28), (134, 123), (40, 33), (97, 85), (130, 119), (92, 80), (88, 76), (98, 86), (118, 107), (104, 93), (72, 60), (105, 94), (99, 87), (51, 40), (38, 31), (95, 83), (45, 36), (96, 84), (73, 61), (69, 57), (112, 101), (34, 29), (53, 42), (52, 43), (70, 58), (80, 68), (75, 63), (123, 112), (71, 59), (47, 37), (60, 49), (77, 65), (100, 88), (82, 70), (7, 6), (50, 41), (61, 50), (78, 66), (126, 115), (74, 62), (62, 51), (117, 106)}\n",
      "conn-in-out-24-11-07--17-01-16.csv {(35, 30), (43, 37), (51, 44), (58, 50), (70, 61), (46, 39), (50, 43), (20, 20), (31, 26), (40, 35), (36, 31), (11, 11), (71, 62), (47, 40), (32, 27), (16, 16), (41, 36), (59, 51), (52, 45), (60, 52), (4, 5), (21, 21), (5, 6), (48, 41), (17, 17), (2, 4), (37, 32), (33, 28), (18, 18), (69, 60), (29, 24), (38, 33), (39, 34), (14, 14), (49, 42), (34, 29), (19, 19), (30, 25), (45, 38), (63, 53), (7, 8), (15, 15)}\n",
      "conn-in-out-24-11-07--17-06-23.csv {(70, 55), (78, 62), (3, 4), (87, 71), (97, 81), (57, 42), (74, 58), (23, 19), (115, 99), (83, 67), (92, 76), (93, 77), (102, 86), (53, 38), (79, 63), (88, 72), (56, 40), (43, 28), (111, 95), (98, 82), (69, 53), (84, 68), (44, 29), (61, 45), (103, 87), (80, 64), (89, 73), (49, 34), (66, 50), (75, 59), (76, 60), (45, 30), (62, 46), (117, 101), (85, 69), (27, 21), (94, 78), (10, 8), (72, 56), (81, 65), (50, 35), (67, 51), (51, 36), (90, 74), (99, 83), (108, 92), (116, 102), (77, 61), (86, 70), (95, 79), (46, 31), (113, 97), (22, 18), (114, 98), (91, 75), (68, 52), (63, 47), (71, 54), (47, 32), (11, 6), (109, 93), (110, 94), (96, 80), (64, 48), (73, 57), (82, 66), (42, 27), (59, 43), (58, 41), (52, 37), (60, 44)}\n"
     ]
    }
   ],
   "source": [
    "for conn_info in os.listdir(os.path.join(tshark_directory, evaluation_directory, 'tt_stream_distribution', 'conn_sni')): \n",
    "    if conn_info.startswith(conn_prefix + data_date): \n",
    "        df_conn = pd.read_csv(os.path.join(tshark_directory, evaluation_directory, 'tt_stream_distribution', 'conn_sni', conn_info)) \n",
    "        time = conn_info[12:-4] \n",
    "        df_meta = pd.read_csv(os.path.join(tshark_directory, ori_directory[1], meta_prefix + time + '.csv')) \n",
    "        df_wlan = pd.read_csv(os.path.join(tshark_directory, ori_directory[0], wlan_prefix + time + '.csv')) \n",
    "        stream_set = getTCPStreamNumberSet(df_conn) \n",
    "        print(conn_info, stream_set) \n",
    "        bp_dict, ap_dict = getBAFR(df_meta, df_wlan, stream_set) \n",
    "        bp_csv = pd.DataFrame(bp_dict) \n",
    "        ap_csv = pd.DataFrame(ap_dict) \n",
    "        bp_csv.to_csv(os.path.join(tshark_directory, evaluation_directory, 'tt_fr', 'time_distribution', 'Meta', meta_prefix + time + '.csv')) \n",
    "        ap_csv.to_csv(os.path.join(tshark_directory, evaluation_directory, 'tt_fr', 'time_distribution', 'WLAN', wlan_prefix + time + '.csv')) "
   ]
  },
  {
   "cell_type": "code",
   "execution_count": 5,
   "metadata": {},
   "outputs": [
    {
     "name": "stdout",
     "output_type": "stream",
     "text": [
      "{(42, 39), (43, 40), (78, 68), (118, 116), (66, 57), (79, 69), (67, 58), (61, 54), (44, 41), (106, 104), (58, 51), (24, 22), (41, 38), (77, 67), (52, 47), (156, 153), (46, 43), (157, 154), (53, 48), (47, 44), (59, 52)}\n"
     ]
    }
   ],
   "source": [
    "test_df = pd.read_csv(os.path.join(tshark_directory, evaluation_directory, 'tt_stream_distribution/conn_sni/conn-in-out-24-11-07--10-19-16.csv')) \n",
    "test_meta = pd.read_csv(os.path.join(tshark_directory, ori_directory[1], 'Meta-24-11-07--10-19-16.csv')) \n",
    "test_wlan = pd.read_csv(os.path.join(tshark_directory, ori_directory[0], 'WLAN-24-11-07--10-19-16.csv')) \n",
    "test_set = getTCPStreamNumberSet(test_df) \n",
    "print(test_set)\n",
    "test_bp_dict, test_ap_dict = getBAFR(test_meta, test_wlan, test_set)"
   ]
  }
 ],
 "metadata": {
  "kernelspec": {
   "display_name": "Pytorch_envs",
   "language": "python",
   "name": "python3"
  },
  "language_info": {
   "codemirror_mode": {
    "name": "ipython",
    "version": 3
   },
   "file_extension": ".py",
   "mimetype": "text/x-python",
   "name": "python",
   "nbconvert_exporter": "python",
   "pygments_lexer": "ipython3",
   "version": "3.9.12"
  }
 },
 "nbformat": 4,
 "nbformat_minor": 2
}
